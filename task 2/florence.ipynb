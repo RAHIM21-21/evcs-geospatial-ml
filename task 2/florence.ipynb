{
 "cells": [
  {
   "cell_type": "code",
   "execution_count": null,
   "metadata": {},
   "outputs": [],
   "source": [
    "pip install osmnx geopandas requests descartes contextily tqdm"
   ]
  },
  {
   "cell_type": "code",
   "execution_count": null,
   "metadata": {},
   "outputs": [],
   "source": [
    "import numpy as np\n",
    "import pandas as pd \n",
    "import geopandas as gpd\n",
    "import matplotlib.pyplot as plt\n",
    "import osmnx as ox\n",
    "import networkx as nx\n",
    "from descartes import PolygonPatch\n",
    "from shapely.geometry import Point, Polygon, MultiPolygon, LineString\n",
    "from tqdm.auto import tqdm\n",
    "import shapely.speedups\n",
    "shapely.speedups.enable() \n",
    "import warnings\n",
    "warnings.filterwarnings('ignore')\n",
    "from matplotlib.patches import PathPatch\n",
    "from matplotlib.path import Path\n"
   ]
  },
  {
   "cell_type": "code",
   "execution_count": null,
   "metadata": {},
   "outputs": [],
   "source": [
    "PLACE_NAME = 'Florence, Italy'\n",
    "name = 'Florence'\n",
    "grid_size = 500"
   ]
  },
  {
   "cell_type": "code",
   "execution_count": null,
   "metadata": {},
   "outputs": [],
   "source": [
    "florence = ox.geocode_to_gdf(PLACE_NAME)\n",
    "print(florence.crs)\n",
    "# changing CRS for grid division\n",
    "florence = ox.project_gdf(florence) \n",
    "print(florence.crs)\n",
    "\n",
    "# Plot and store the axis object\n",
    "ax = florence.plot()\n",
    "\n",
    "# Customize the font size of the tick labels on the axes\n",
    "ax.tick_params(axis='both', which='major', labelsize=8)\n",
    "\n",
    "# Display the plot\n",
    "plt.show()\n",
    "\n",
    "# Print the type of geometry for your information\n",
    "geometry = florence['geometry'].iloc[0]\n",
    "print(type(geometry))"
   ]
  },
  {
   "cell_type": "code",
   "execution_count": null,
   "metadata": {},
   "outputs": [],
   "source": [
    "#save geometry\n",
    "#florence.to_file(f\"D:/charging_stations/task2/map/{florence}.shp\")"
   ]
  },
  {
   "cell_type": "markdown",
   "metadata": {},
   "source": [
    "Division into grid"
   ]
  },
  {
   "cell_type": "code",
   "execution_count": null,
   "metadata": {},
   "outputs": [],
   "source": [
    "geometry_cut = ox.utils_geo._quadrat_cut_geometry(geometry, quadrat_width=grid_size) #500 Meter grid\n",
    "print(type(geometry_cut))\n",
    "polylist = [poly for poly in geometry_cut.geoms]"
   ]
  },
  {
   "cell_type": "code",
   "execution_count": null,
   "metadata": {},
   "outputs": [],
   "source": [
    "import shapely.geometry as sg\n",
    "polylist = [poly for poly in geometry_cut.geoms]\n",
    "# plot city\n",
    "west, south, east, north = florence.unary_union.bounds\n",
    "\n",
    "# Manual patch creation\n",
    "fig, ax = plt.subplots(figsize=(40, 40))\n",
    "for polygon in geometry_cut.geoms:\n",
    "    if isinstance(polygon, sg.Polygon) and not polygon.is_empty:\n",
    "        verts = np.array(polygon.exterior.coords)\n",
    "        codes = np.full(len(verts), Path.LINETO)\n",
    "        codes[0] = Path.MOVETO\n",
    "        codes[-1] = Path.CLOSEPOLY\n",
    "        path = Path(verts, codes)\n",
    "        patch = PathPatch(path, facecolor='white', edgecolor='black', alpha=0.5)\n",
    "        ax.add_patch(patch)\n",
    "\n",
    "ax.set_xlim(west, east)\n",
    "ax.set_ylim(south, north)\n",
    "ax.axis('off')\n",
    "plt.show()"
   ]
  },
  {
   "cell_type": "code",
   "execution_count": null,
   "metadata": {},
   "outputs": [],
   "source": [
    "florence_polyframe = gpd.GeoDataFrame(geometry=polylist)\n",
    "florence_polyframe.crs = florence.crs\n",
    "print(florence_polyframe.crs)\n",
    "florence_polyframe.head()"
   ]
  },
  {
   "cell_type": "code",
   "execution_count": null,
   "metadata": {},
   "outputs": [],
   "source": [
    "import contextily as ctx\n",
    "# ctx uses epsg:3857ax = city.plot()\n",
    "polyframe_3857 = florence_polyframe.to_crs(epsg=3857)\n",
    "west, south, east, north = polyframe_3857.unary_union.bounds\n",
    "\n",
    "ax = polyframe_3857.plot(figsize=(40,40), alpha=0.5, edgecolor='k')\n",
    "ctx.add_basemap(ax, zoom=13)\n",
    "ax.set_xlim(west, east)\n",
    "ax.set_ylim(south, north)"
   ]
  },
  {
   "cell_type": "markdown",
   "metadata": {},
   "source": [
    "## POIs"
   ]
  },
  {
   "cell_type": "code",
   "execution_count": null,
   "metadata": {},
   "outputs": [],
   "source": [
    "florence_polyframe_lat_long = ox.project_gdf(florence_polyframe, to_latlong=True) #Changing CRS to (Lat, long)\n",
    "florence_polyframe_lat_long.head()"
   ]
  },
  {
   "cell_type": "markdown",
   "metadata": {},
   "source": [
    "# EV Stations"
   ]
  },
  {
   "cell_type": "code",
   "execution_count": null,
   "metadata": {},
   "outputs": [],
   "source": [
    "EV_stations = ox.geometries_from_place(\n",
    "    PLACE_NAME,\n",
    "    {\"amenity\": \"charging_station\"},\n",
    ")"
   ]
  },
  {
   "cell_type": "code",
   "execution_count": null,
   "metadata": {},
   "outputs": [],
   "source": [
    "EV_stations.head()"
   ]
  },
  {
   "cell_type": "code",
   "execution_count": null,
   "metadata": {},
   "outputs": [],
   "source": [
    "#plot EV stations geo data\n",
    "EV_stations.plot(figsize=(10,10))\n",
    "plt.title(\"Florence EV stations\")"
   ]
  },
  {
   "cell_type": "code",
   "execution_count": null,
   "metadata": {},
   "outputs": [],
   "source": [
    "fig, ax = plt.subplots(figsize=(10,10))\n",
    "ox.project_gdf(florence, to_latlong=True).plot(ax =ax, alpha=0.5, edgecolor='k')\n",
    "EV_stations.plot(ax=ax, color='green', marker='*', markersize=10)\n",
    "#add legend\n",
    "plt.legend(['EV stations'])\n",
    "plt.title(\"Florence EV stations\")"
   ]
  },
  {
   "cell_type": "code",
   "execution_count": null,
   "metadata": {},
   "outputs": [],
   "source": [
    "#intersection of points and polygons\n",
    "import shapely.speedups\n",
    "shapely.speedups.enable() \n",
    "\n",
    "masks_EV = []\n",
    "for i in tqdm(range(0,florence_polyframe.shape[0])):\n",
    "    pip_mask = EV_stations.within(florence_polyframe_lat_long.loc[i, 'geometry']) \n",
    "    masks_EV.append(pip_mask)"
   ]
  },
  {
   "cell_type": "code",
   "execution_count": null,
   "metadata": {},
   "outputs": [],
   "source": [
    "# create a new geodataframe with mask EV stations \n",
    "EV_stations_masked = gpd.GeoDataFrame()\n",
    "for i in tqdm(range(0,florence_polyframe.shape[0])):\n",
    "    EV_stations_masked = pd.concat([EV_stations_masked, EV_stations[masks_EV[i]][['geometry']]], ignore_index=True)"
   ]
  },
  {
   "cell_type": "code",
   "execution_count": null,
   "metadata": {},
   "outputs": [],
   "source": [
    "florence_polyframe_lat_long_new = florence_polyframe_lat_long.copy()\n",
    "florence_polyframe_lat_long_new['EV_stations_counts'] = 0\n",
    "florence_polyframe_lat_long_new['EV_stations_geomery'] = 0"
   ]
  },
  {
   "cell_type": "code",
   "execution_count": null,
   "metadata": {},
   "outputs": [],
   "source": [
    "for i in tqdm(range(0,florence_polyframe_lat_long_new.shape[0])):\n",
    "    florence_polyframe_lat_long_new.loc[i, 'EV_stations_counts'] = EV_stations[masks_EV[i]].shape[0]\n",
    "    florence_polyframe_lat_long_new.loc[i, 'EV_stations_geomery'] = str(EV_stations[masks_EV[i]][['geometry']].values.tolist())"
   ]
  },
  {
   "cell_type": "code",
   "execution_count": null,
   "metadata": {},
   "outputs": [],
   "source": [
    "#How many EV stations in each grid\n",
    "florence_polyframe_lat_long_new['EV_stations_counts'].value_counts()\n",
    "#Percentage of EV stations in each grid\n",
    "florence_polyframe_lat_long_new['EV_stations_counts'].value_counts() / florence_polyframe_lat_long_new.shape[0]"
   ]
  },
  {
   "cell_type": "code",
   "execution_count": null,
   "metadata": {},
   "outputs": [],
   "source": [
    "florence_polyframe_lat_long_new.head(5)"
   ]
  },
  {
   "cell_type": "markdown",
   "metadata": {},
   "source": [
    "# Population data visualize and add to each grid"
   ]
  },
  {
   "cell_type": "code",
   "execution_count": null,
   "metadata": {},
   "outputs": [],
   "source": [
    "df_pop = pd.read_csv(\"/Users/claudiacortese/Desktop/ita_general_2020.csv\")\n",
    "gdf = gpd.GeoDataFrame(df_pop, geometry=gpd.points_from_xy(df_pop.longitude, df_pop.latitude))"
   ]
  },
  {
   "cell_type": "code",
   "execution_count": null,
   "metadata": {},
   "outputs": [],
   "source": [
    "df_pop.head()"
   ]
  },
  {
   "cell_type": "code",
   "execution_count": null,
   "metadata": {},
   "outputs": [],
   "source": [
    "#extract population data for Florence\n",
    "florence.geometry[0]"
   ]
  },
  {
   "cell_type": "code",
   "execution_count": null,
   "metadata": {},
   "outputs": [],
   "source": [
    "# change crs to lat long\n",
    "florence_lat_long = ox.project_gdf(florence, to_latlong=True)\n",
    "pip_mask = gdf.within(florence_lat_long.loc[0, 'geometry'])"
   ]
  },
  {
   "cell_type": "code",
   "execution_count": null,
   "metadata": {},
   "outputs": [],
   "source": [
    "florence_pop_gdf = gdf.loc[pip_mask]"
   ]
  },
  {
   "cell_type": "code",
   "execution_count": null,
   "metadata": {},
   "outputs": [],
   "source": [
    "#plot population data with cmap\n",
    "florence_pop_gdf.plot(figsize=(10,10))"
   ]
  },
  {
   "cell_type": "code",
   "execution_count": null,
   "metadata": {},
   "outputs": [],
   "source": [
    "florence_pop_gdf.to_csv(f\"/Users/claudiacortese/Desktop/{name}-population.csv\")"
   ]
  },
  {
   "cell_type": "code",
   "execution_count": null,
   "metadata": {},
   "outputs": [],
   "source": [
    "# population for each grid\n",
    "masks_pop = []\n",
    "for i in tqdm(range(0,florence_polyframe_lat_long.shape[0])):\n",
    "    pip_mask = florence_pop_gdf.within(florence_polyframe_lat_long.loc[i, 'geometry'])\n",
    "    masks_pop.append(pip_mask)"
   ]
  },
  {
   "cell_type": "code",
   "execution_count": null,
   "metadata": {},
   "outputs": [],
   "source": [
    "pop_grid = []\n",
    "for i in range(0,florence_polyframe_lat_long.shape[0]):\n",
    "    pop_grid.append(florence_pop_gdf.loc[masks_pop[i]].ita_general_2020.mean())"
   ]
  },
  {
   "cell_type": "code",
   "execution_count": null,
   "metadata": {},
   "outputs": [],
   "source": [
    "pop_grid = np.nan_to_num(pop_grid)"
   ]
  },
  {
   "cell_type": "code",
   "execution_count": null,
   "metadata": {},
   "outputs": [],
   "source": [
    "florence_polyframe_lat_long_new['population'] = pop_grid\n",
    "florence_polyframe_lat_long_new.head()"
   ]
  },
  {
   "cell_type": "code",
   "execution_count": null,
   "metadata": {},
   "outputs": [],
   "source": [
    "plt.rcParams.update({'font.size':25})\n",
    "west, south, east, north = florence_polyframe_lat_long_new.unary_union.bounds\n",
    "\n",
    "fig, ax = plt.subplots(figsize=(20,20))\n",
    "florence_polyframe_lat_long_new.plot(ax=ax, column = 'population', legend=False, cmap='magma')\n",
    "# add EV stations\n",
    "EV_stations.plot(ax=ax, color='green', markersize=30, marker='*', label='EV stations')\n",
    "# add legend\n",
    "plt.legend(['EV stations'])\n",
    "plt.title(f'{PLACE_NAME} EV stations and population')\n",
    "cbax = fig.add_axes([0.915, 0.175, 0.02, 0.7])\n",
    "\n",
    "sm = plt.cm.ScalarMappable(cmap='magma', \\\n",
    "                          norm = plt.Normalize(vmin=min(florence_polyframe_lat_long_new.population), vmax=max(florence_polyframe_lat_long_new.population)))\n",
    "sm._A = []\n",
    "# draw colormap into cbax\n",
    "fig.colorbar(sm, cax=cbax, format=\"%d\")\n",
    "ax.set_xlim(west, east)\n",
    "ax.set_ylim(south, north)\n",
    "# ax.axis('off')30\n",
    "plt.show()"
   ]
  },
  {
   "cell_type": "markdown",
   "metadata": {},
   "source": [
    "# Land Use"
   ]
  },
  {
   "cell_type": "code",
   "execution_count": null,
   "metadata": {},
   "outputs": [],
   "source": [
    "landuse = ox.geometries_from_place(PLACE_NAME, tags={'landuse': True})\n",
    "\n",
    "# Define the categories\n",
    "categories = {\n",
    "    'residential': ['residential'],\n",
    "    'commercial': ['commercial', 'retail', 'office', 'industrial'],\n",
    "    'retail': ['retail'],\n",
    "    'industrial': ['industrial']\n",
    "}\n",
    "\n",
    "# Create a new column to categorize the landuse types\n",
    "landuse['category'] = 'Other'\n",
    "\n",
    "# Iterate through the categories and assign the corresponding landuse types\n",
    "for category, tags in categories.items():\n",
    "    landuse.loc[landuse['landuse'].isin(tags), 'category'] = category"
   ]
  },
  {
   "cell_type": "code",
   "execution_count": null,
   "metadata": {},
   "outputs": [],
   "source": [
    "landuse.to_csv(f\"/Users/claudiacortese/Desktop/{name}-landuse.csv\")"
   ]
  },
  {
   "cell_type": "code",
   "execution_count": null,
   "metadata": {},
   "outputs": [],
   "source": [
    "#plot node in landuse\n",
    "fig, ax = plt.subplots(figsize=(20,20))\n",
    "landuse.plot(ax=ax, column = 'category', legend=True, cmap='magma')\n",
    "plt.title(f'{PLACE_NAME} landuse')\n",
    "plt.show()"
   ]
  },
  {
   "cell_type": "code",
   "execution_count": null,
   "metadata": {},
   "outputs": [],
   "source": [
    "#create a copy of landuse drop everything except Category and geometry\n",
    "landuse_cat = landuse[['category', 'geometry']].copy()"
   ]
  },
  {
   "cell_type": "code",
   "execution_count": null,
   "metadata": {},
   "outputs": [],
   "source": [
    "import shapely.speedups\n",
    "shapely.speedups.enable()"
   ]
  },
  {
   "cell_type": "code",
   "execution_count": null,
   "metadata": {},
   "outputs": [],
   "source": [
    "masks_land_use = []\n",
    "for i in tqdm(range(0,florence_polyframe_lat_long.shape[0])):\n",
    "    pip_mask = landuse_cat.within(florence_polyframe_lat_long.loc[i, 'geometry']) \n",
    "    masks_land_use.append(pip_mask)\n",
    "    assert pip_mask.shape[0] == landuse_cat.shape[0]"
   ]
  },
  {
   "cell_type": "code",
   "execution_count": null,
   "metadata": {},
   "outputs": [],
   "source": [
    "land_labels = []\n",
    "for i in range(0,florence_polyframe_lat_long.shape[0]):\n",
    "    if landuse_cat[masks_land_use[i]].category.value_counts().isnull().all() == True:\n",
    "        land_labels.append('Other')\n",
    "    else:\n",
    "        land_labels.append(landuse_cat[masks_land_use[i]].category.value_counts().index[0])"
   ]
  },
  {
   "cell_type": "code",
   "execution_count": null,
   "metadata": {},
   "outputs": [],
   "source": [
    "florence_polyframe_lat_long_new['landuse'] = land_labels"
   ]
  },
  {
   "cell_type": "code",
   "execution_count": null,
   "metadata": {},
   "outputs": [],
   "source": [
    "florence_polyframe_lat_long_new.landuse.value_counts()"
   ]
  },
  {
   "cell_type": "code",
   "execution_count": null,
   "metadata": {},
   "outputs": [],
   "source": [
    "plt.rcParams.update({'font.size':25})\n",
    "west, south, east, north = florence_polyframe_lat_long_new.unary_union.bounds\n",
    "\n",
    "fig, ax = plt.subplots(figsize=(20,20))\n",
    "florence_polyframe_lat_long_new.plot(ax=ax, column = 'landuse', legend=False, cmap='magma')\n",
    "# add EV stations\n",
    "EV_stations.plot(ax=ax, color='green', markersize=30, marker='*', label='EV stations')\n",
    "ax.legend()\n",
    "# add legend\n",
    "plt.title(f'{PLACE_NAME} and Landuse')\n",
    "ax.set_xlim(west, east)\n",
    "ax.set_ylim(south, north)\n",
    "# ax.axis('off')30\n",
    "plt.show()"
   ]
  },
  {
   "cell_type": "code",
   "execution_count": null,
   "metadata": {},
   "outputs": [],
   "source": [
    "florence_polyframe_lat_long_new.head()"
   ]
  },
  {
   "cell_type": "markdown",
   "metadata": {},
   "source": [
    "## Road Connectivity"
   ]
  },
  {
   "cell_type": "code",
   "execution_count": null,
   "metadata": {},
   "outputs": [],
   "source": [
    "G = ox.graph_from_place(PLACE_NAME, network_type='drive')\n",
    "ox.plot_graph(G, node_size= 0)"
   ]
  },
  {
   "cell_type": "code",
   "execution_count": null,
   "metadata": {},
   "outputs": [],
   "source": [
    "area,edges = ox.graph_to_gdfs(G)"
   ]
  },
  {
   "cell_type": "code",
   "execution_count": null,
   "metadata": {},
   "outputs": [],
   "source": [
    "#calculate number of edges and nodes for each grid\n",
    "nodes = []\n",
    "edges = []\n",
    "density = []\n",
    "for i in tqdm(range(0,florence_polyframe_lat_long.shape[0])):\n",
    "    try: \n",
    "        poly = florence_polyframe_lat_long.loc[i, 'geometry']\n",
    "        G = ox.graph_from_polygon(poly, network_type='drive')\n",
    "        nodes.append(len(list(G.nodes())))\n",
    "        edges.append(len(list(G.edges())))\n",
    "        density.append(nx.density(G))\n",
    "    except:\n",
    "        nodes.append(0)\n",
    "        edges.append(0)\n",
    "        density.append(0)"
   ]
  },
  {
   "cell_type": "code",
   "execution_count": null,
   "metadata": {},
   "outputs": [],
   "source": [
    "#add nodes, edges and density to the dataframe\n",
    "florence_polyframe_lat_long_new['nodes'] = nodes\n",
    "florence_polyframe_lat_long_new['edges'] = edges\n",
    "florence_polyframe_lat_long_new['density'] = density"
   ]
  },
  {
   "cell_type": "code",
   "execution_count": null,
   "metadata": {},
   "outputs": [],
   "source": [
    "# relation between EVCSs and nodes\n",
    "plt.rcParams.update({'font.size':25})\n",
    "west, south, east, north = florence_polyframe_lat_long_new.unary_union.bounds\n",
    "\n",
    "#nodes\n",
    "fig, ax = plt.subplots(figsize=(20,20))\n",
    "florence_polyframe_lat_long_new.plot(ax=ax, column = 'nodes', legend=False, cmap='magma')\n",
    "\n",
    "# add EV stations\n",
    "EV_stations.plot(ax=ax, color='green', markersize=10, marker='*', label='EV stations')\n",
    "\n",
    "ax.legend()\n",
    "plt.title(f'{PLACE_NAME} and Nodes(Road-connectivity)')\n",
    "ax.set_xlim(west, east)\n",
    "ax.set_ylim(south, north)\n",
    "plt.show()"
   ]
  },
  {
   "cell_type": "code",
   "execution_count": null,
   "metadata": {},
   "outputs": [],
   "source": [
    "plt.rcParams.update({'font.size':25})\n",
    "west, south, east, north = florence_polyframe_lat_long_new.unary_union.bounds\n",
    "\n",
    "#edges\n",
    "fig, ax = plt.subplots(figsize=(20,20))\n",
    "florence_polyframe_lat_long_new.plot(ax=ax, column = 'edges', legend=False, cmap='magma')\n",
    "\n",
    "# add EV stations\n",
    "EV_stations.plot(ax=ax, color='green', markersize=10, marker='*', label='EV stations')\n",
    "\n",
    "ax.legend()\n",
    "plt.title(f'{PLACE_NAME} and edges(Road-connectivity)')\n",
    "ax.set_xlim(west, east)\n",
    "ax.set_ylim(south, north)\n",
    "plt.show()"
   ]
  },
  {
   "cell_type": "code",
   "execution_count": null,
   "metadata": {},
   "outputs": [],
   "source": [
    "plt.rcParams.update({'font.size':25})\n",
    "west, south, east, north = florence_polyframe_lat_long_new.unary_union.bounds\n",
    "\n",
    "#density\n",
    "fig, ax = plt.subplots(figsize=(20,20))\n",
    "florence_polyframe_lat_long_new.plot(ax=ax, column = 'density', legend=False, cmap='magma')\n",
    "\n",
    "# add EV stations\n",
    "EV_stations.plot(ax=ax, color='green', markersize=10, marker='*', label='EV stations')\n",
    "\n",
    "ax.legend()\n",
    "plt.title(f'{PLACE_NAME} and Road Density(Road-connectivity))')\n",
    "ax.set_xlim(west, east)\n",
    "ax.set_ylim(south, north)\n",
    "plt.show()"
   ]
  },
  {
   "cell_type": "code",
   "execution_count": null,
   "metadata": {},
   "outputs": [],
   "source": [
    "florence_polyframe_lat_long_new.head()"
   ]
  },
  {
   "cell_type": "markdown",
   "metadata": {},
   "source": [
    "# POIs"
   ]
  },
  {
   "cell_type": "code",
   "execution_count": null,
   "metadata": {},
   "outputs": [],
   "source": [
    "import osmnx as ox\n",
    "import pandas as pd\n",
    "from tqdm import tqdm\n",
    "\n",
    "def count_features_in_grids(place_name, features, city_polyframe, dataframe_name):\n",
    "    for feature_key, feature_list in features.items():\n",
    "        for feature in feature_list:\n",
    "            try:\n",
    "                # Fetch geometries from OpenStreetMap\n",
    "                geometries = ox.geometries_from_place(\n",
    "                    place_name,\n",
    "                    {feature_key: feature}\n",
    "                )\n",
    "                # Export to CSV if geometries are found\n",
    "                if not geometries.empty:\n",
    "                    geometries.to_csv(f\"/Users/claudiacortese/Desktop/Florence-{feature}.csv\")\n",
    "\n",
    "                    # Create masks for each grid\n",
    "                    masks = []\n",
    "                    for i in tqdm(range(0, city_polyframe.shape[0]), desc=f\"Processing masks for {feature}\"):\n",
    "                        pip_mask = geometries.within(city_polyframe.loc[i, 'geometry'])\n",
    "                        masks.append(pip_mask)\n",
    "\n",
    "                    # Count features in each grid\n",
    "                    feature_counts = []\n",
    "                    for i in tqdm(range(0, city_polyframe.shape[0]), desc=f\"Counting {feature}\"):\n",
    "                        feature_counts.append(geometries[masks[i]].shape[0])\n",
    "\n",
    "                    # Add counts to the dataframe\n",
    "                    dataframe_name[f'{feature}_count'] = feature_counts\n",
    "                else:\n",
    "                    print(f\"No data found for {feature_key}='{feature}' in {place_name}.\")\n",
    "            except Exception as e:\n",
    "                print(f\"Failed to process {feature_key}='{feature}' in {place_name}: {str(e)}\")"
   ]
  },
  {
   "cell_type": "code",
   "execution_count": null,
   "metadata": {},
   "outputs": [],
   "source": [
    "features = {\n",
    "    'amenity': ['school', 'university', 'restaurant', 'place_of_worship', \n",
    "                'community_centre', 'townhall', 'parking', 'library'],\n",
    "    'leisure': ['park', 'cinema'],\n",
    "    'building': ['commercial', 'government', 'civic', 'retail']\n",
    "}\n",
    "\n",
    "city_polyframe = florence_polyframe_lat_long_new\n",
    "\n",
    "count_features_in_grids(PLACE_NAME, features, city_polyframe, florence_polyframe_lat_long_new)"
   ]
  },
  {
   "cell_type": "code",
   "execution_count": null,
   "metadata": {},
   "outputs": [],
   "source": [
    "florence_polyframe_lat_long_new.head().T"
   ]
  },
  {
   "cell_type": "markdown",
   "metadata": {},
   "source": [
    "## Traffic"
   ]
  },
  {
   "cell_type": "code",
   "execution_count": null,
   "metadata": {},
   "outputs": [],
   "source": [
    "# Fetch road network data\n",
    "florence_graph = ox.graph_from_place(PLACE_NAME, network_type='drive')\n",
    "\n",
    "# Visualize the road network\n",
    "ox.plot_graph(florence_graph)"
   ]
  },
  {
   "cell_type": "code",
   "execution_count": null,
   "metadata": {},
   "outputs": [],
   "source": [
    "# Convert the graph to edge GeoDataFrame\n",
    "edges = ox.graph_to_gdfs(florence_graph, nodes=False, edges=True)"
   ]
  },
  {
   "cell_type": "code",
   "execution_count": null,
   "metadata": {},
   "outputs": [],
   "source": [
    "selected_columns = edges[['osmid', 'oneway', 'lanes', 'highway', 'maxspeed', \n",
    "                          'geometry']]"
   ]
  },
  {
   "cell_type": "code",
   "execution_count": null,
   "metadata": {},
   "outputs": [],
   "source": [
    "selected_columns.head()"
   ]
  },
  {
   "cell_type": "code",
   "execution_count": null,
   "metadata": {},
   "outputs": [],
   "source": [
    "# Drop rows where any cell in that row is NA\n",
    "selected_columns = selected_columns.dropna()"
   ]
  },
  {
   "cell_type": "code",
   "execution_count": null,
   "metadata": {},
   "outputs": [],
   "source": [
    "# Convert road network to a projected CRS\n",
    "road_network = selected_columns.to_crs(epsg=32633)\n",
    "\n",
    "# Also ensure your polygons are in the same CRS\n",
    "florence_polyframe_lat_long_new = florence_polyframe_lat_long_new.to_crs(epsg=32633)"
   ]
  },
  {
   "cell_type": "code",
   "execution_count": null,
   "metadata": {},
   "outputs": [],
   "source": [
    "# Calculate centroids safely\n",
    "road_centers = road_network.centroid"
   ]
  },
  {
   "cell_type": "code",
   "execution_count": null,
   "metadata": {},
   "outputs": [],
   "source": [
    "def check_one_way(polygon, roads):\n",
    "    # Recalculate centroids here if necessary\n",
    "    road_centers = roads.centroid  # Ensure 'roads' is already in a projected CRS\n",
    "    within_mask = road_centers.within(polygon)\n",
    "    one_way_roads = roads[within_mask & roads['oneway']]\n",
    "    return 'Yes' if not one_way_roads.empty else 'No'\n",
    "\n",
    "# Apply the function\n",
    "florence_polyframe_lat_long_new['oneway_exists'] = florence_polyframe_lat_long_new['geometry'].apply(check_one_way, roads=road_network)"
   ]
  },
  {
   "cell_type": "code",
   "execution_count": null,
   "metadata": {},
   "outputs": [],
   "source": [
    "florence_polyframe_lat_long_new.head().T"
   ]
  },
  {
   "cell_type": "code",
   "execution_count": null,
   "metadata": {},
   "outputs": [],
   "source": [
    "def check_highways(polygon, roads):\n",
    "    # Calculate centroids for the roads and check if they fall within the given polygon\n",
    "    road_centers = roads.centroid\n",
    "    within_mask = road_centers.within(polygon)\n",
    "    highways_within = roads.loc[within_mask, 'highway']\n",
    "\n",
    "    # Flatten the list of highways if they are stored in lists within cells\n",
    "    flattened_highways = []\n",
    "    for item in highways_within.dropna():\n",
    "        if isinstance(item, list):\n",
    "            flattened_highways.extend(item)  # Extend the flat list with elements of the sublist\n",
    "        else:\n",
    "            flattened_highways.append(item)  # Append the item directly if it's not a list\n",
    "\n",
    "    # Create a set of unique highway types, removing duplicates and handling unhashable types\n",
    "    unique_highways = set(flattened_highways)\n",
    "    return unique_highways if unique_highways else 'None'"
   ]
  },
  {
   "cell_type": "code",
   "execution_count": null,
   "metadata": {},
   "outputs": [],
   "source": [
    "florence_polyframe_lat_long_new['highway_types'] = florence_polyframe_lat_long_new['geometry'].apply(check_highways, roads=road_network)"
   ]
  },
  {
   "cell_type": "code",
   "execution_count": null,
   "metadata": {},
   "outputs": [],
   "source": [
    "florence_polyframe_lat_long_new.head().T"
   ]
  },
  {
   "cell_type": "code",
   "execution_count": null,
   "metadata": {},
   "outputs": [],
   "source": [
    "def aggregate_lanes(polygon, roads):\n",
    "    road_centers = roads.centroid\n",
    "    within_mask = road_centers.within(polygon)\n",
    "    lanes_within = roads.loc[within_mask, 'lanes'].dropna()\n",
    "    # Convert data to numeric, because 'lanes' might be stored as strings\n",
    "    lanes_within = pd.to_numeric(lanes_within, errors='coerce')\n",
    "    return lanes_within.mean()  # You could also consider sum, max, or other aggregations"
   ]
  },
  {
   "cell_type": "code",
   "execution_count": null,
   "metadata": {},
   "outputs": [],
   "source": [
    "florence_polyframe_lat_long_new['average_lanes'] = florence_polyframe_lat_long_new['geometry'].apply(aggregate_lanes, roads=road_network)"
   ]
  },
  {
   "cell_type": "code",
   "execution_count": null,
   "metadata": {},
   "outputs": [],
   "source": [
    "def aggregate_maxspeed(polygon, roads):\n",
    "    road_centers = roads.centroid\n",
    "    within_mask = road_centers.within(polygon)\n",
    "    maxspeed_within = roads.loc[within_mask, 'maxspeed'].dropna()\n",
    "    \n",
    "    # Process each maxspeed entry, whether list or string, to get numeric values\n",
    "    def process_maxspeed_entry(entry):\n",
    "        if isinstance(entry, list):\n",
    "            # Assuming the list has a string with the first element as the speed\n",
    "            return pd.to_numeric(entry[0].split(' ')[0], errors='coerce')\n",
    "        elif isinstance(entry, str):\n",
    "            return pd.to_numeric(entry.split(' ')[0], errors='coerce')\n",
    "        else:\n",
    "            return pd.NA  # Pandas' NA for missing type-aware handling\n",
    "\n",
    "    # Apply processing function to each item in the series\n",
    "    maxspeed_numeric = maxspeed_within.apply(process_maxspeed_entry)\n",
    "    return maxspeed_numeric.mean()  # Calculate mean of the cleaned, numeric maxspeed values"
   ]
  },
  {
   "cell_type": "code",
   "execution_count": null,
   "metadata": {},
   "outputs": [],
   "source": [
    "florence_polyframe_lat_long_new['average_maxspeed'] = florence_polyframe_lat_long_new['geometry'].apply(aggregate_maxspeed, roads=road_network)"
   ]
  },
  {
   "cell_type": "code",
   "execution_count": null,
   "metadata": {},
   "outputs": [],
   "source": [
    "florence_polyframe_lat_long_new['city'] = 'Florence'"
   ]
  },
  {
   "cell_type": "code",
   "execution_count": null,
   "metadata": {},
   "outputs": [],
   "source": [
    "florence_polyframe_lat_long_new.head().T"
   ]
  },
  {
   "cell_type": "code",
   "execution_count": null,
   "metadata": {},
   "outputs": [],
   "source": [
    "# Save the updated DataFrame to a CSV file\n",
    "florence_polyframe_lat_long_new.to_csv(r\"D:\\BIG_DATA\\charging_stations\\task_2\\florence.csv\", index=False)"
   ]
  }
 ],
 "metadata": {
  "kernelspec": {
   "display_name": ".venv",
   "language": "python",
   "name": "python3"
  },
  "language_info": {
   "codemirror_mode": {
    "name": "ipython",
    "version": 3
   },
   "file_extension": ".py",
   "mimetype": "text/x-python",
   "name": "python",
   "nbconvert_exporter": "python",
   "pygments_lexer": "ipython3",
   "version": "3.12.6"
  }
 },
 "nbformat": 4,
 "nbformat_minor": 2
}
